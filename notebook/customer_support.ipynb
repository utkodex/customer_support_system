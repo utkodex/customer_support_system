{
 "cells": [
  {
   "cell_type": "code",
   "execution_count": 1,
   "id": "65568a4a",
   "metadata": {},
   "outputs": [],
   "source": [
    "import pandas as pd"
   ]
  },
  {
   "cell_type": "code",
   "execution_count": 3,
   "id": "66c793ca",
   "metadata": {},
   "outputs": [],
   "source": [
    "data=pd.read_csv(r\"C:\\Users\\Utkarsh\\Downloads\\Coding\\Gen_AI\\my_project\\customer_support_system\\data\\amazon_product_review.csv\")"
   ]
  },
  {
   "cell_type": "code",
   "execution_count": 4,
   "id": "e69bb611",
   "metadata": {},
   "outputs": [
    {
     "data": {
      "text/html": [
       "<div>\n",
       "<style scoped>\n",
       "    .dataframe tbody tr th:only-of-type {\n",
       "        vertical-align: middle;\n",
       "    }\n",
       "\n",
       "    .dataframe tbody tr th {\n",
       "        vertical-align: top;\n",
       "    }\n",
       "\n",
       "    .dataframe thead th {\n",
       "        text-align: right;\n",
       "    }\n",
       "</style>\n",
       "<table border=\"1\" class=\"dataframe\">\n",
       "  <thead>\n",
       "    <tr style=\"text-align: right;\">\n",
       "      <th></th>\n",
       "      <th>product_id</th>\n",
       "      <th>product_title</th>\n",
       "      <th>rating</th>\n",
       "      <th>summary</th>\n",
       "      <th>review</th>\n",
       "    </tr>\n",
       "  </thead>\n",
       "  <tbody>\n",
       "    <tr>\n",
       "      <th>0</th>\n",
       "      <td>ACCFZGAQJGYCYDCM</td>\n",
       "      <td>BoAt Rockerz 235v2 with ASAP charging Version ...</td>\n",
       "      <td>5</td>\n",
       "      <td>Terrific purchase</td>\n",
       "      <td>1-more flexible2-bass is very high3-sound clar...</td>\n",
       "    </tr>\n",
       "    <tr>\n",
       "      <th>1</th>\n",
       "      <td>ACCFZGAQJGYCYDCM</td>\n",
       "      <td>BoAt Rockerz 235v2 with ASAP charging Version ...</td>\n",
       "      <td>5</td>\n",
       "      <td>Terrific purchase</td>\n",
       "      <td>Super sound and good looking I like that prize</td>\n",
       "    </tr>\n",
       "    <tr>\n",
       "      <th>2</th>\n",
       "      <td>ACCFZGAQJGYCYDCM</td>\n",
       "      <td>BoAt Rockerz 235v2 with ASAP charging Version ...</td>\n",
       "      <td>5</td>\n",
       "      <td>Super!</td>\n",
       "      <td>Very much satisfied with the device at this pr...</td>\n",
       "    </tr>\n",
       "    <tr>\n",
       "      <th>3</th>\n",
       "      <td>ACCFZGAQJGYCYDCM</td>\n",
       "      <td>BoAt Rockerz 235v2 with ASAP charging Version ...</td>\n",
       "      <td>5</td>\n",
       "      <td>Super!</td>\n",
       "      <td>Nice headphone, bass was very good and sound i...</td>\n",
       "    </tr>\n",
       "    <tr>\n",
       "      <th>4</th>\n",
       "      <td>ACCFZGAQJGYCYDCM</td>\n",
       "      <td>BoAt Rockerz 235v2 with ASAP charging Version ...</td>\n",
       "      <td>5</td>\n",
       "      <td>Terrific purchase</td>\n",
       "      <td>Sound quality super battery backup super quali...</td>\n",
       "    </tr>\n",
       "  </tbody>\n",
       "</table>\n",
       "</div>"
      ],
      "text/plain": [
       "         product_id                                      product_title  \\\n",
       "0  ACCFZGAQJGYCYDCM  BoAt Rockerz 235v2 with ASAP charging Version ...   \n",
       "1  ACCFZGAQJGYCYDCM  BoAt Rockerz 235v2 with ASAP charging Version ...   \n",
       "2  ACCFZGAQJGYCYDCM  BoAt Rockerz 235v2 with ASAP charging Version ...   \n",
       "3  ACCFZGAQJGYCYDCM  BoAt Rockerz 235v2 with ASAP charging Version ...   \n",
       "4  ACCFZGAQJGYCYDCM  BoAt Rockerz 235v2 with ASAP charging Version ...   \n",
       "\n",
       "   rating            summary  \\\n",
       "0       5  Terrific purchase   \n",
       "1       5  Terrific purchase   \n",
       "2       5             Super!   \n",
       "3       5             Super!   \n",
       "4       5  Terrific purchase   \n",
       "\n",
       "                                              review  \n",
       "0  1-more flexible2-bass is very high3-sound clar...  \n",
       "1     Super sound and good looking I like that prize  \n",
       "2  Very much satisfied with the device at this pr...  \n",
       "3  Nice headphone, bass was very good and sound i...  \n",
       "4  Sound quality super battery backup super quali...  "
      ]
     },
     "execution_count": 4,
     "metadata": {},
     "output_type": "execute_result"
    }
   ],
   "source": [
    "data.head()"
   ]
  },
  {
   "cell_type": "code",
   "execution_count": 6,
   "id": "68a376ff",
   "metadata": {},
   "outputs": [
    {
     "data": {
      "text/plain": [
       "Index(['product_id', 'product_title', 'rating', 'summary', 'review'], dtype='object')"
      ]
     },
     "execution_count": 6,
     "metadata": {},
     "output_type": "execute_result"
    }
   ],
   "source": [
    "data.columns"
   ]
  },
  {
   "cell_type": "code",
   "execution_count": 8,
   "id": "545c9947",
   "metadata": {},
   "outputs": [
    {
     "data": {
      "text/plain": [
       "\"1-more flexible2-bass is very high3-sound clarity is good 4-battery back up to 6 to 8 hour's 5-main thing is fastest charging system is available in that. Only 20 min charge and get long up to 4 hours back up 6-killing look awesome 7-for gaming that product does not support 100% if you want for gaming then I'll recommend you please don't buy but you want for only music then this product is very well for you.. 8-no more wireless headphones are comparing with that headphones at this pric...\""
      ]
     },
     "execution_count": 8,
     "metadata": {},
     "output_type": "execute_result"
    }
   ],
   "source": [
    "data[\"review\"][0]"
   ]
  },
  {
   "cell_type": "code",
   "execution_count": 10,
   "id": "e00a44d9",
   "metadata": {},
   "outputs": [
    {
     "data": {
      "text/plain": [
       "0    5\n",
       "1    5\n",
       "2    5\n",
       "3    5\n",
       "4    5\n",
       "Name: rating, dtype: int64"
      ]
     },
     "execution_count": 10,
     "metadata": {},
     "output_type": "execute_result"
    }
   ],
   "source": [
    "data[\"rating\"][:5]"
   ]
  },
  {
   "cell_type": "code",
   "execution_count": 13,
   "id": "fc1ec9ac",
   "metadata": {},
   "outputs": [
    {
     "data": {
      "text/plain": [
       "0    BoAt Rockerz 235v2 with ASAP charging Version ...\n",
       "1    BoAt Rockerz 235v2 with ASAP charging Version ...\n",
       "2    BoAt Rockerz 235v2 with ASAP charging Version ...\n",
       "3    BoAt Rockerz 235v2 with ASAP charging Version ...\n",
       "4    BoAt Rockerz 235v2 with ASAP charging Version ...\n",
       "Name: product_title, dtype: object"
      ]
     },
     "execution_count": 13,
     "metadata": {},
     "output_type": "execute_result"
    }
   ],
   "source": [
    "data[\"product_title\"][:5]"
   ]
  },
  {
   "cell_type": "code",
   "execution_count": 15,
   "id": "5598725c",
   "metadata": {},
   "outputs": [
    {
     "data": {
      "text/plain": [
       "0    Terrific purchase\n",
       "1    Terrific purchase\n",
       "2               Super!\n",
       "3               Super!\n",
       "4    Terrific purchase\n",
       "Name: summary, dtype: object"
      ]
     },
     "execution_count": 15,
     "metadata": {},
     "output_type": "execute_result"
    }
   ],
   "source": [
    "data[\"summary\"][:5]"
   ]
  },
  {
   "cell_type": "code",
   "execution_count": 1,
   "id": "8bc8a75c",
   "metadata": {},
   "outputs": [
    {
     "data": {
      "text/plain": [
       "True"
      ]
     },
     "execution_count": 1,
     "metadata": {},
     "output_type": "execute_result"
    }
   ],
   "source": [
    "from langchain_google_genai import ChatGoogleGenerativeAI\n",
    "\n",
    "from dotenv import load_dotenv\n",
    "load_dotenv()"
   ]
  },
  {
   "cell_type": "code",
   "execution_count": 2,
   "id": "cd2539d2",
   "metadata": {},
   "outputs": [],
   "source": [
    "import os\n",
    "GOOGLE_API_KEY=os.getenv(\"GOOGLE_API_KEY\")\n",
    "os.environ[\"GOOGLE_API_KEY\"]=GOOGLE_API_KEY"
   ]
  },
  {
   "cell_type": "code",
   "execution_count": 3,
   "id": "f433fe8c",
   "metadata": {},
   "outputs": [
    {
     "data": {
      "text/plain": [
       "AIMessage(content='Hello! How can I help you today?', additional_kwargs={}, response_metadata={'prompt_feedback': {'block_reason': 0, 'safety_ratings': []}, 'finish_reason': 'STOP', 'model_name': 'models/gemini-2.5-flash-preview-04-17', 'safety_ratings': []}, id='run--6baba9db-3999-4b98-900b-933f3a306652-0', usage_metadata={'input_tokens': 2, 'output_tokens': 9, 'total_tokens': 257, 'input_token_details': {'cache_read': 0}, 'output_token_details': {'reasoning': 246}})"
      ]
     },
     "execution_count": 3,
     "metadata": {},
     "output_type": "execute_result"
    }
   ],
   "source": [
    "openai_model=ChatGoogleGenerativeAI(model=\"gemini-2.5-flash-preview-04-17\")\n",
    "openai_model.invoke(\"hi\")"
   ]
  },
  {
   "cell_type": "code",
   "execution_count": null,
   "id": "5d32f70a",
   "metadata": {},
   "outputs": [],
   "source": [
    "from langchain_astradb import AstraDBVectorStore\n",
    "from dotenv import load_dotenv\n",
    "import os\n",
    "import pandas as pd\n",
    "from data_ingestion.data_transform import data_converter\n",
    "from langchain_google_genai import GoogleGenerativeAIEmbeddings\n",
    "\n",
    "load_dotenv()\n",
    "\n",
    "GOOGLE_API_KEY=os.getenv(\"GOOGLE_API_KEY\")\n",
    "ASTRA_DB_API_ENDPOINT=os.getenv(\"ASTRA_DB_API_ENDPOINT\")\n",
    "ASTRA_DB_APPLICATION_TOKEN=os.getenv(\"ASTRA_DB_APPLICATION_TOKEN\")\n",
    "ASTRA_DB_KEYSPACE=os.getenv(\"ASTRA_DB_KEYSPACE\")\n",
    "\n",
    "os.environ[\"GOOGLE_API_KEY\"]=GOOGLE_API_KEY\n",
    "os.environ[\"ASTRA_DB_API_ENDPOINT\"]=ASTRA_DB_API_ENDPOINT\n",
    "os.environ[\"ASTRA_DB_APPLICATION_TOKEN\"]=ASTRA_DB_APPLICATION_TOKEN\n",
    "os.environ[\"ASTRA_DB_KEYSPACE\"]=ASTRA_DB_KEYSPACE\n",
    "\n",
    "class ingest_data:\n",
    "    \n",
    "    def __init__(self):\n",
    "        print(\"data ingestion class has init...\")\n",
    "        self.embeddings = GoogleGenerativeAIEmbeddings(model=\"model/text-embedding-004\")\n",
    "        self.data_converter=data_converter()\n",
    "\n",
    "    def data_ingestion(self, status):\n",
    "        vstore=AstraDBVectorStore(\n",
    "            embedding=self.embeddings,\n",
    "            collection_name=\"chatbotecomm\",\n",
    "            api_endpoint=ASTRA_DB_API_ENDPOINT,\n",
    "            token=ASTRA_DB_APPLICATION_TOKEN,\n",
    "            namespace=ASTRA_DB_KEYSPACE,\n",
    "        )\n",
    "        storage=status\n",
    "\n",
    "        if storage==None:\n",
    "            docs=self.data_converter.data_transformation()\n",
    "            inserted_ids=vstore.add_documents(docs)\n",
    "            print(inserted_ids)\n",
    "        else:\n",
    "            return vstore\n",
    "        \n",
    "        return vstore, inserted_ids\n",
    "\n",
    "if __name__ == '__main__':\n",
    "    ingest_data=ingest_data()\n",
    "    vstore, inserted_ids=ingest_data.data_ingestion(None)\n",
    "    print(f\"\\nInserted{len(inserted_ids)} documents.\")\n",
    "    # results=vstore.similarity_search('can you tell me the low budget headphone')\n",
    "    # for res in results:\n",
    "    #     print(f\"{res.page_content} {res.metadata}\")"
   ]
  },
  {
   "cell_type": "code",
   "execution_count": null,
   "id": "25c741ab",
   "metadata": {},
   "outputs": [],
   "source": [
    "from langchain_astradb import AstraDBVectorStore\n",
    "from dotenv import load_dotenv\n",
    "import os\n",
    "from pathlib import Path\n",
    "from data_ingestion.data_transform import data_converter\n",
    "from langchain_google_genai import GoogleGenerativeAIEmbeddings\n",
    "\n",
    "# ✅ Load .env from two directories up\n",
    "load_dotenv(dotenv_path=Path(__file__).resolve().parents[2] / '.env')\n",
    "\n",
    "# ✅ Get environment variables\n",
    "GOOGLE_API_KEY = os.getenv(\"GOOGLE_API_KEY\")\n",
    "ASTRA_DB_API_ENDPOINT = os.getenv(\"ASTRA_DB_API_ENDPOINT\")\n",
    "ASTRA_DB_APPLICATION_TOKEN = os.getenv(\"ASTRA_DB_APPLICATION_TOKEN\")\n",
    "ASTRA_DB_KEYSPACE = os.getenv(\"ASTRA_DB_KEYSPACE\")\n",
    "\n",
    "# ✅ Ensure all variables are present\n",
    "if not GOOGLE_API_KEY:\n",
    "    raise ValueError(\"GOOGLE_API_KEY not found in environment.\")\n",
    "if not ASTRA_DB_API_ENDPOINT:\n",
    "    raise ValueError(\"ASTRA_DB_API_ENDPOINT not found in environment.\")\n",
    "if not ASTRA_DB_APPLICATION_TOKEN:\n",
    "    raise ValueError(\"ASTRA_DB_APPLICATION_TOKEN not found in environment.\")\n",
    "if not ASTRA_DB_KEYSPACE:\n",
    "    raise ValueError(\"ASTRA_DB_KEYSPACE not found in environment.\")\n",
    "\n",
    "# ✅ Set env vars for SDKs\n",
    "os.environ[\"GOOGLE_API_KEY\"] = GOOGLE_API_KEY\n",
    "os.environ[\"ASTRA_DB_API_ENDPOINT\"] = ASTRA_DB_API_ENDPOINT\n",
    "os.environ[\"ASTRA_DB_APPLICATION_TOKEN\"] = ASTRA_DB_APPLICATION_TOKEN\n",
    "os.environ[\"ASTRA_DB_KEYSPACE\"] = ASTRA_DB_KEYSPACE\n",
    "\n",
    "class ingest_data:\n",
    "\n",
    "    def __init__(self):\n",
    "        print(\"Data ingestion class initialized...\")\n",
    "        self.embeddings = GoogleGenerativeAIEmbeddings(model=\"model/text-embedding-001\")\n",
    "        self.data_converter = data_converter()\n",
    "\n",
    "    def data_ingestion(self, status):\n",
    "        vstore = AstraDBVectorStore(\n",
    "            embedding=self.embeddings,\n",
    "            collection_name=\"chatbotecomm\",\n",
    "            api_endpoint=ASTRA_DB_API_ENDPOINT,\n",
    "            token=ASTRA_DB_APPLICATION_TOKEN,\n",
    "            namespace=ASTRA_DB_KEYSPACE,\n",
    "        )\n",
    "\n",
    "        if status is None:\n",
    "            docs = self.data_converter.data_transformation()\n",
    "            inserted_ids = vstore.add_documents(docs)\n",
    "            print(f\"Inserted IDs: {inserted_ids}\")\n",
    "            return vstore, inserted_ids\n",
    "        else:\n",
    "            return vstore, []\n",
    "\n",
    "if __name__ == '__main__':\n",
    "    ingest = ingest_data()\n",
    "    vstore, inserted_ids = ingest.data_ingestion(None)\n",
    "    print(f\"\\n✅ Inserted {len(inserted_ids)} documents.\")\n"
   ]
  }
 ],
 "metadata": {
  "kernelspec": {
   "display_name": "Python 3",
   "language": "python",
   "name": "python3"
  },
  "language_info": {
   "codemirror_mode": {
    "name": "ipython",
    "version": 3
   },
   "file_extension": ".py",
   "mimetype": "text/x-python",
   "name": "python",
   "nbconvert_exporter": "python",
   "pygments_lexer": "ipython3",
   "version": "3.10.16"
  }
 },
 "nbformat": 4,
 "nbformat_minor": 5
}
